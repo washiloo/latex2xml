{
 "cells": [
  {
   "cell_type": "markdown",
   "metadata": {},
   "source": [
    "Contact e-mail: fabiangiana@gmail.com"
   ]
  },
  {
   "cell_type": "markdown",
   "metadata": {},
   "source": [
    "# Conversor de preguntas LaTeX a XML\n",
    "\n",
    "Esta notebook simple sirve para convertir preguntas de examen hechas en LaTeX a preguntas en formato XML para ser usadas en la plataforma Moodle (engine que utiliza PEDCO actualmente, 23feb21).\n",
    "\n",
    "Por favor, **leer el instructivo** en la página de GitHub antes de usar.\n",
    "\n",
    "_Enjoy!_"
   ]
  },
  {
   "cell_type": "code",
   "execution_count": 1,
   "metadata": {},
   "outputs": [],
   "source": [
    "import latex2xml as l2x # Paquete para convertir a XML"
   ]
  },
  {
   "cell_type": "markdown",
   "metadata": {},
   "source": [
    "## Un solo archivo "
   ]
  },
  {
   "cell_type": "code",
   "execution_count": 3,
   "metadata": {},
   "outputs": [
    {
     "name": "stdout",
     "output_type": "stream",
     "text": [
      "\n",
      " Voilà! Se generó un archivo .xml con un total de 5 preguntas de tipo \"essay\" en la categoría \"example_input\"\n"
     ]
    }
   ],
   "source": [
    "filename = 'example_input.tex' # Nombre del archivo\n",
    "l2x.generate_xml_q(filename) # Convierto el archivo a XML de Moodle "
   ]
  },
  {
   "cell_type": "markdown",
   "metadata": {},
   "source": [
    "## Todos los archivos en un directorio"
   ]
  },
  {
   "cell_type": "code",
   "execution_count": 4,
   "metadata": {},
   "outputs": [
    {
     "name": "stdout",
     "output_type": "stream",
     "text": [
      "\n",
      " Voilà! Se generó un archivo .xml con un total de 5 preguntas de tipo \"essay\" en la categoría \"example_input_2\"\n",
      "\n",
      " Voilà! Se generó un archivo .xml con un total de 5 preguntas de tipo \"essay\" en la categoría \"example_input\"\n"
     ]
    }
   ],
   "source": [
    "foldername = 'questions_latex' # Nombre del directorio donde están todos los archivos de LaTeX\n",
    "l2x.generate_xml_q_folder(foldername) # Convierto todos los archivos a XML de Moodle "
   ]
  }
 ],
 "metadata": {
  "kernelspec": {
   "display_name": "Python 3",
   "language": "python",
   "name": "python3"
  },
  "language_info": {
   "codemirror_mode": {
    "name": "ipython",
    "version": 3
   },
   "file_extension": ".py",
   "mimetype": "text/x-python",
   "name": "python",
   "nbconvert_exporter": "python",
   "pygments_lexer": "ipython3",
   "version": "3.6.9"
  }
 },
 "nbformat": 4,
 "nbformat_minor": 4
}
