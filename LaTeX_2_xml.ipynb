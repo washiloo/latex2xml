{
 "cells": [
  {
   "cell_type": "markdown",
   "metadata": {},
   "source": [
    "Contact e-mail: fabiangiana@gmail.com"
   ]
  },
  {
   "cell_type": "markdown",
   "metadata": {},
   "source": [
    "# Conversor de preguntas LaTeX a XML\n",
    "\n",
    "Esta notebook simple sirve para convertir preguntas de examen hechas en LaTeX a preguntas en formato XML para ser usadas en la plataforma Moodle (engine que utiliza PEDCO actualmente, 23feb21).\n",
    "\n",
    "Por favor, **leer primero el instructivo** ubicado más abajo bajo el título **¿Cómo se usa?**.\n",
    "\n",
    "_Enjoy!_"
   ]
  },
  {
   "cell_type": "code",
   "execution_count": 1,
   "metadata": {},
   "outputs": [],
   "source": [
    "# Default parameter values\n",
    "params = {}\n",
    "params['q_category'] = None # Nombre de la categoría\n",
    "params['tex_dir'] = 'questions_tex' # Carpeta de lectura de archivos .tex\n",
    "params['xml_dir'] = 'questions_xml' # Carpeta de escritura de archivos .xml\n",
    "\n",
    "params['q_type'] = 'essay' # ¡NO MODIFICAR! (próximamente se agregará la funcionalidad)\n",
    "params['q_format'] = 'html' # ¡NO MODIFICAR! (próximamente se agregará la funcionalidad)"
   ]
  },
  {
   "cell_type": "markdown",
   "metadata": {},
   "source": [
    "### Un solo archivo "
   ]
  },
  {
   "cell_type": "code",
   "execution_count": 2,
   "metadata": {},
   "outputs": [
    {
     "name": "stdout",
     "output_type": "stream",
     "text": [
      "\n",
      " Voilà! Se generó un archivo .xml con un total de 5 preguntas de tipo \"essay\" en la categoría \"example_input\"\n"
     ]
    }
   ],
   "source": [
    "import tex2xml_mood as t2x # Paquete para convertir a XML\n",
    "\n",
    "filename = 'example_input.tex' # Nombre del archivo a convertir\n",
    "t2x.generate_xml_q(filename,params) # Convierto el archivo a XML de Moodle "
   ]
  },
  {
   "cell_type": "markdown",
   "metadata": {},
   "source": [
    "### Todos los archivos en un directorio"
   ]
  },
  {
   "cell_type": "code",
   "execution_count": 3,
   "metadata": {},
   "outputs": [
    {
     "name": "stdout",
     "output_type": "stream",
     "text": [
      "\n",
      " Voilà! Se generó un archivo .xml con un total de 5 preguntas de tipo \"essay\" en la categoría \"example_input_2\"\n",
      "\n",
      " Voilà! Se generó un archivo .xml con un total de 5 preguntas de tipo \"essay\" en la categoría \"example_input\"\n"
     ]
    }
   ],
   "source": [
    "t2x.generate_xml_q_folder(params) # Convierto todos los archivos a XML de Moodle "
   ]
  },
  {
   "cell_type": "markdown",
   "metadata": {},
   "source": [
    "# ¿Cómo se usa?"
   ]
  },
  {
   "cell_type": "markdown",
   "metadata": {},
   "source": [
    "### Configuración\n",
    "La primera celda de código asigna los valores de los parámetros configurables comunes a ambos modos de uso (archivo único o carpeta completa). Dichos parámetros son:\n",
    "\n",
    "`q_category` - tipo _string_: es el nombre de la categoría donde se colocará la pregunta dentro del Banco de Preguntas. Por defecto es igual al nombre del archivo _.tex_, sin la extensión. \n",
    "\n",
    "`tex_dir` - tipo _string_: es el directorio donde está el archivo _.tex_ que se desea convertir. Tiene que ser un subdirectorio del directorio donde está el _notebook_. Por defecto es `'questions_tex'`.  \n",
    "\n",
    "`xml_dir` - tipo _string_: es el directorio donde se guardará el archivo _.xml_ resultante de la conversión, y es un subdirectorio del directorio donde está el _notebook_. Por defecto es `'questions_xml'`.  \n",
    "\n",
    "`q_type` - tipo _string_: es el tipo de pregunta de Moodle. Por defecto es `'essay'`, y todavía no se admiten otros tipos (está pensado para el futuro).  \n",
    "\n",
    "`q_format` - tipo _string_: es el formato del texto de la pregunta. Por defecto es `'html'`, y todavía no se admiten otros tipos (está pensado para el futuro).  \n",
    "\n",
    "Por ejemplo, si el archivo que se desea convertir está ubicado en `C:/Documentos/my_folder/preguntas_latex/matrices.tex` y se desea usar el nombre del archivo como nombre de la categoría, entonces el _notebook_ debe estar ubicado en `C:/Documentos/my_folder/` y se debe asignar `params['tex_dir'] = 'preguntas_latex'` y `params['q_category'] = None`.\n",
    "\n",
    "### Ejecución\n",
    "Una vez configurada la primera celda, basta con correr la celda correspondiente al modo de uso deseado (\"Un solo archivo\" o \"Todos los archivos de un directorio\") y listo :-) . En el modo de archivo único, se debe asignar el nombre del mismo en la variable `filename`."
   ]
  }
 ],
 "metadata": {
  "kernelspec": {
   "display_name": "Python 3",
   "language": "python",
   "name": "python3"
  },
  "language_info": {
   "codemirror_mode": {
    "name": "ipython",
    "version": 3
   },
   "file_extension": ".py",
   "mimetype": "text/x-python",
   "name": "python",
   "nbconvert_exporter": "python",
   "pygments_lexer": "ipython3",
   "version": "3.6.9"
  }
 },
 "nbformat": 4,
 "nbformat_minor": 4
}
