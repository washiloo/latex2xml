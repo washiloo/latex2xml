{
 "cells": [
  {
   "cell_type": "markdown",
   "metadata": {},
   "source": [
    "Contact e-mail: fabiangiana@gmail.com"
   ]
  },
  {
   "cell_type": "markdown",
   "metadata": {},
   "source": [
    "# Conversor de preguntas LaTeX a XML\n",
    "\n",
    "Esta notebook simple sirve para convertir preguntas de examen hechas en LaTeX a preguntas en formato XML para ser usadas en la plataforma Moodle (engine que utiliza PEDCO actualmente, 23feb21).\n",
    "\n",
    "Los datos de entrada son:\n",
    "\n",
    "1) Un archivo de LaTeX **que compile**, con el formato que se detalla en la documentación del software.  \n",
    "2) El nombre de la categoría a la cual irán a parar las preguntas dentro del Banco de Preguntas.  \n",
    "3) El nombre del subdirectorio donde se guardarán los archivos generados.  \n",
    "\n",
    "Las siguientes dos celdas de _python_ hacen todo el trabajo. Para ejecutarlas, seleccionarlas (en orden descendente) y pulsar **SHIFT + ENTER**.\n",
    "\n",
    "_Enjoy!_"
   ]
  },
  {
   "cell_type": "code",
   "execution_count": 3,
   "metadata": {},
   "outputs": [],
   "source": [
    "# Archivos\n",
    "filename = 'example_input.tex' # Nombre del archivo LaTeX con la pregunta\n",
    "q_category = 'example_category'   # Nombre de la categoría dentro del Banco de Preguntas\n",
    "question_dir = 'questions/' # Directorio para guardar las preguntas (subdirectorio del directorio principal)"
   ]
  },
  {
   "cell_type": "code",
   "execution_count": 4,
   "metadata": {},
   "outputs": [],
   "source": [
    "import latex2xml as l2x\n",
    "l2x.generate_xml_q(filename,question_dir,q_category = q_category)"
   ]
  }
 ],
 "metadata": {
  "kernelspec": {
   "display_name": "Python 3",
   "language": "python",
   "name": "python3"
  },
  "language_info": {
   "codemirror_mode": {
    "name": "ipython",
    "version": 3
   },
   "file_extension": ".py",
   "mimetype": "text/x-python",
   "name": "python",
   "nbconvert_exporter": "python",
   "pygments_lexer": "ipython3",
   "version": "3.6.9"
  }
 },
 "nbformat": 4,
 "nbformat_minor": 4
}
